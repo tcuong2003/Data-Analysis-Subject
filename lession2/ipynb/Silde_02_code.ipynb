{
 "cells": [
  {
   "cell_type": "markdown",
   "id": "f3b4b8f2-7d38-4eab-a863-38eabeef484c",
   "metadata": {},
   "source": [
    "# ADVANCED PROBLEMS IN PYTHON"
   ]
  },
  {
   "cell_type": "markdown",
   "id": "493b71a0-87b3-49bc-af81-8c0569eb8f7b",
   "metadata": {},
   "source": [
    "## File and folder handling"
   ]
  },
  {
   "cell_type": "markdown",
   "id": "2bc2f07a-9864-46d1-aa35-c9619b55d8ea",
   "metadata": {},
   "source": [
    "### Basic operations on folders"
   ]
  },
  {
   "cell_type": "code",
   "execution_count": 2,
   "id": "ab8290d6-be80-4de2-9c72-1dbad7a353e0",
   "metadata": {},
   "outputs": [],
   "source": [
    "# Import the os module (provides functions for interacting with the operating system)\n",
    "import os  \n",
    "\n",
    "# Import the tempfile module (used to create temporary files and directories)\n",
    "import tempfile"
   ]
  },
  {
   "cell_type": "code",
   "execution_count": 3,
   "id": "15f9b4b4-a86a-4324-a531-ad6ed47ac359",
   "metadata": {},
   "outputs": [
    {
     "name": "stdout",
     "output_type": "stream",
     "text": [
      "Current working directory: /Users/mac\n",
      "Changed working directory to: /Users/mac\n"
     ]
    }
   ],
   "source": [
    "# Get the current working directory\n",
    "cwd = os.getcwd()\n",
    "print(\"Current working directory:\", cwd)\n",
    "\n",
    "# Change the current working directory (in this case, change to the same path)\n",
    "os.chdir(cwd)\n",
    "print(\"Changed working directory to:\", cwd)"
   ]
  },
  {
   "cell_type": "code",
   "execution_count": 4,
   "id": "8c2c9acc-2fa1-419e-a5d8-1341572ca8ae",
   "metadata": {},
   "outputs": [
    {
     "name": "stdout",
     "output_type": "stream",
     "text": [
      "System temporary directory: /var/folders/zx/0my630tn7z3_6cjh_7bbt0x40000gn/T\n",
      "Joined path inside temp directory: /var/folders/zx/0my630tn7z3_6cjh_7bbt0x40000gn/T/foobar\n"
     ]
    }
   ],
   "source": [
    "# Get the system temporary directory\n",
    "tmpdir = tempfile.gettempdir()\n",
    "print(\"System temporary directory:\", tmpdir)\n",
    "\n",
    "# Join paths: create a new path inside the temporary directory\n",
    "mytmpdir = os.path.join(tmpdir, \"foobar\")\n",
    "print(\"Joined path inside temp directory:\", mytmpdir)"
   ]
  },
  {
   "cell_type": "code",
   "execution_count": 26,
   "id": "115baae8-8d00-4b93-9984-fda560bd3303",
   "metadata": {},
   "outputs": [
    {
     "name": "stdout",
     "output_type": "stream",
     "text": [
      "Parent directory path: /var/folders/zx/0my630tn7z3_6cjh_7bbt0x40000gn/T/foobar\n",
      "Contents of /var/folders/zx/0my630tn7z3_6cjh_7bbt0x40000gn/T/foobar : ['plop']\n"
     ]
    }
   ],
   "source": [
    "# Get the system temporary directory\n",
    "tmpdir = tempfile.gettempdir()\n",
    "\n",
    "# Join paths: create a new path inside the temporary directory\n",
    "mytmpdir = os.path.join(tmpdir, \"foobar\")\n",
    "\n",
    "# Create a directory path: {tmpdir}/foobar/plop/toto\n",
    "# The parameter exist_ok=True ensures no error is raised if the directory already exists.\n",
    "os.makedirs(os.path.join(tmpdir, \"foobar\", \"plop\", \"toto\"), exist_ok=True)\n",
    "\n",
    "# Print the path of the parent directory we created\n",
    "print(\"Parent directory path:\", mytmpdir)\n",
    "\n",
    "# List the contents of the parent directory\n",
    "print(\"Contents of\", mytmpdir, \":\", os.listdir(mytmpdir))"
   ]
  },
  {
   "cell_type": "markdown",
   "id": "c6de2bb9-ba73-45aa-9b99-d0b09997ef39",
   "metadata": {},
   "source": [
    "### File import/export"
   ]
  },
  {
   "cell_type": "code",
   "execution_count": 30,
   "id": "16bf2b11-758d-4708-b2bf-49d97722c879",
   "metadata": {},
   "outputs": [
    {
     "name": "stdout",
     "output_type": "stream",
     "text": [
      "File path created: /var/folders/zx/0my630tn7z3_6cjh_7bbt0x40000gn/T/foobar/myfile.txt ...\n",
      "First line: Dans python tout est bon ...\n",
      "Second line: Enfin, presque ...\n",
      "All lines: ['Dans python tout est bon\\n', 'Enfin, presque\\n'] ...\n",
      "All lines with context manager: ['Dans python tout est bon\\n', 'Enfin, presque\\n'] ...\n"
     ]
    }
   ],
   "source": [
    "# Create a file path {mytmpdir}/myfile.txt\n",
    "filename = os.path.join(mytmpdir, \"myfile.txt\")\n",
    "print(\"File path created:\", filename, \"...\")  # Print the full file path\n",
    "\n",
    "# Write content to the file line by line\n",
    "lines = [\"Dans python tout est bon\", \"Enfin, presque\"]\n",
    "fd = open(filename, \"w\")                 # Open file in write mode\n",
    "fd.write(lines[0] + \"\\n\")                 # Write the first line with newline\n",
    "fd.write(lines[1] + \"\\n\")                 # Write the second line with newline\n",
    "fd.close()                               # Close the file after writing\n",
    "\n",
    "# Read content of the file line by line\n",
    "f = open(filename, \"r\")                   # Open file in read mode\n",
    "print(\"First line:\", f.readline().strip(), \"...\")   # Read and print the first line\n",
    "print(\"Second line:\", f.readline().strip(), \"...\")  # Read and print the second line\n",
    "f.close()                                # Close the file after reading\n",
    "\n",
    "# Read all lines at once (returns a list of lines)\n",
    "f = open(filename, 'r')\n",
    "print(\"All lines:\", f.readlines(), \"...\")  # Read and print all lines\n",
    "f.close()\n",
    "\n",
    "# Use context manager to read file (auto closes the file after block ends)\n",
    "with open(filename, 'r') as f:\n",
    "    lines = [line for line in f]          # Store all lines into a list\n",
    "    print(\"All lines with context manager:\", lines, \"...\")\n"
   ]
  },
  {
   "cell_type": "markdown",
   "id": "49f3f04f-21b0-422e-89da-d1cdf7795bcd",
   "metadata": {},
   "source": [
    "### Browse files and folders"
   ]
  },
  {
   "cell_type": "code",
   "execution_count": 31,
   "id": "5f7c5fb3-1da7-4d63-a10c-2b5f58f1a697",
   "metadata": {},
   "outputs": [
    {
     "name": "stdout",
     "output_type": "stream",
     "text": [
      "Currently visiting directory: /var/folders/zx/0my630tn7z3_6cjh_7bbt0x40000gn/T/foobar ...\n",
      "  - Subdirectories inside: [] ...\n",
      "  - Files inside: ['myfile.txt'] ...\n"
     ]
    }
   ],
   "source": [
    "# --- Define the folder path {tmpdir}/foobar ---\n",
    "tmpdir = tempfile.gettempdir()\n",
    "folder = os.path.join(tmpdir, \"foobar\")\n",
    "\n",
    "# --- Recursively walk through the directory ---\n",
    "# os.walk() yields a tuple (dirpath, dirnames, filenames)\n",
    "for dirpath, dirnames, filenames in os.walk(folder): \n",
    "    print(\"Currently visiting directory:\", dirpath, \"...\")\n",
    "    print(\"  - Subdirectories inside:\", dirnames, \"...\")\n",
    "    print(\"  - Files inside:\", filenames, \"...\")"
   ]
  },
  {
   "cell_type": "markdown",
   "id": "87d73146-e58a-4c38-9039-dd9b2c1c59ec",
   "metadata": {},
   "source": [
    "### Search for files by pattern"
   ]
  },
  {
   "cell_type": "code",
   "execution_count": 37,
   "id": "3d90a3e5-7cfe-47dd-bc14-aee2d139eade",
   "metadata": {},
   "outputs": [
    {
     "name": "stdout",
     "output_type": "stream",
     "text": [
      "List of .txt files found inside subdirectories of tmpdir: ['/var/folders/zx/0my630tn7z3_6cjh_7bbt0x40000gn/T/plop2/myfile.txt', '/var/folders/zx/0my630tn7z3_6cjh_7bbt0x40000gn/T/foobar/myfile.txt'] ...\n"
     ]
    }
   ],
   "source": [
    "import glob\n",
    "import tempfile\n",
    "\n",
    "# --- Get the system temporary directory ---\n",
    "tmpdir = tempfile.gettempdir()\n",
    "\n",
    "# --- Find all files with the pattern {tmpdir}/*/*.txt ---\n",
    "# This means: look inside every subdirectory of tmpdir (one level deep)\n",
    "# and collect all files ending with \".txt\".\n",
    "filenames = glob.glob(os.path.join(tmpdir, \"*\", \"*.txt\"))\n",
    "\n",
    "# --- Print the list of matching files ---\n",
    "print(\"List of .txt files found inside subdirectories of tmpdir:\", filenames, \"...\")\n"
   ]
  },
  {
   "cell_type": "code",
   "execution_count": 38,
   "id": "5790fe61-29aa-4ab1-a699-e11d367ec1d2",
   "metadata": {},
   "outputs": [
    {
     "name": "stdout",
     "output_type": "stream",
     "text": [
      "Full file path: /var/folders/zx/0my630tn7z3_6cjh_7bbt0x40000gn/T/plop2/myfile.txt ...\n",
      "Directory: /var/folders/zx/0my630tn7z3_6cjh_7bbt0x40000gn/T/plop2 - Filename: myfile.txt ...\n",
      "Basename: myfile - Extension: .txt ...\n"
     ]
    }
   ],
   "source": [
    "# --- Get file information ---\n",
    "# Take the first file path from the list of found files\n",
    "filepath = filenames[0]\n",
    "print(\"Full file path:\", filepath, \"...\")\n",
    "\n",
    "# --- Split the file path into directory and file name ---\n",
    "dirname, filename = os.path.split(filepath)\n",
    "print(\"Directory:\", dirname, \"- Filename:\", filename, \"...\")\n",
    "\n",
    "# --- Split the file name into basename and extension ---\n",
    "basename, extfile = os.path.splitext(filename)\n",
    "print(\"Basename:\", basename, \"- Extension:\", extfile, \"...\")"
   ]
  },
  {
   "cell_type": "markdown",
   "id": "97b2cc30-1f0e-4bab-b016-9211cafb892a",
   "metadata": {},
   "source": [
    "### Copy files, folders"
   ]
  },
  {
   "cell_type": "code",
   "execution_count": 43,
   "id": "982ddd6f-d904-40d5-8dbe-15102b72ee46",
   "metadata": {},
   "outputs": [
    {
     "name": "stdout",
     "output_type": "stream",
     "text": [
      "Copy file from /var/folders/zx/0my630tn7z3_6cjh_7bbt0x40000gn/T/foobar/myfile.txt to /var/folders/zx/0my630tn7z3_6cjh_7bbt0x40000gn/T/foobar/plop/myfile.txt ...\n",
      "Does file /var/folders/zx/0my630tn7z3_6cjh_7bbt0x40000gn/T/foobar/plop/myfile.txt exist? ... False\n",
      "Copy entire folder tree from /var/folders/zx/0my630tn7z3_6cjh_7bbt0x40000gn/T/foobar/plop to /var/folders/zx/0my630tn7z3_6cjh_7bbt0x40000gn/T/plop2 ...\n",
      "Error occurred during directory operations: [Errno 2] No such file or directory: '/var/folders/zx/0my630tn7z3_6cjh_7bbt0x40000gn/T/foobar/plop' ...\n"
     ]
    }
   ],
   "source": [
    "import shutil\n",
    "\n",
    "# Define source and destination file paths\n",
    "src = os.path.join(tmpdir, \"foobar\", \"myfile.txt\")\n",
    "dst = os.path.join(tmpdir, \"foobar\", \"plop\", \"myfile.txt\")\n",
    "print(\"Copy file from %s to %s ...\" % (src, dst))\n",
    "\n",
    "# Copy file from src to dst\n",
    "# shutil.copy(src, dst)\n",
    "\n",
    "# Check if destination file exists after copy\n",
    "print(\"Does file %s exist? ...\" % dst, os.path.exists(dst))\n",
    "\n",
    "# Define source and destination directories\n",
    "src = os.path.join(tmpdir, \"foobar\", \"plop\")\n",
    "dst = os.path.join(tmpdir, \"plop2\")\n",
    "\n",
    "print(\"Copy entire folder tree from %s to %s ...\" % (src, dst))\n",
    "\n",
    "# Perform directory operations: copy tree, remove tree, and move folder\n",
    "try:\n",
    "    shutil.copytree(src, dst)   # Copy entire directory tree\n",
    "    print(\"Directory tree copied successfully ...\")\n",
    "\n",
    "    shutil.rmtree(dst)          # Remove the copied directory\n",
    "    print(\"Copied directory removed successfully ...\")\n",
    "\n",
    "    shutil.move(src, dst)       # Move the source directory to a new destination\n",
    "    print(\"Directory moved successfully ...\")\n",
    "\n",
    "except (FileExistsError, FileNotFoundError) as e:\n",
    "    print(\"Error occurred during directory operations:\", e, \"...\")\n"
   ]
  },
  {
   "cell_type": "markdown",
   "id": "a1b5ca4f-2460-420b-b39a-04267923fbb5",
   "metadata": {},
   "source": [
    "## Object Oriented Programming\n",
    "### Object Oriented Principles:\n",
    "\n",
    "- Encapsulate: package data (attributes) and source code (methods) into objects.\n",
    "- Class: a form to create separate objects with the same data and source code.\n",
    "- Object: a defined entity of a Class.\n",
    "- Inheritance: allows classes to inherit common states and behaviors of the parent class (reuse source code)\n",
    "- Polymorphism: call the corresponding method of the owning entity even though it inherits that method from the - parent class (helps the program be extensible - meaning the programmer can inherit and re-declare methods from the parent class with new processing behavior)."
   ]
  },
  {
   "cell_type": "code",
   "execution_count": 44,
   "id": "8008ba19-9805-4dd2-bde5-a553f9edcaca",
   "metadata": {},
   "outputs": [
    {
     "name": "stdout",
     "output_type": "stream",
     "text": [
      "Areas of shapes (Square(2), Disk(3)) ... [4, 28.274333882308138]\n",
      "Calling Shape2D().area() ... NotImplementedError: \n"
     ]
    }
   ],
   "source": [
    "import math\n",
    "\n",
    "# Build the parent class\n",
    "class Shape2D:\n",
    "    def area(self):  # Common method \"area\" (to be overridden in subclasses)\n",
    "        raise NotImplementedError()\n",
    "\n",
    "# Inheritance + Encapsulation\n",
    "class Square(Shape2D):  # Inherits from Shape2D\n",
    "    def __init__(self, width):  # Constructor method\n",
    "        self.width = width\n",
    "    \n",
    "    def area(self):  # Polymorphism: override \"area\" of the parent class\n",
    "        return self.width ** 2\n",
    "\n",
    "class Disk(Shape2D):  # Inherits from Shape2D\n",
    "    def __init__(self, radius):  # Constructor method\n",
    "        self.radius = radius\n",
    "    \n",
    "    def area(self):  # Polymorphism: override \"area\" of the parent class\n",
    "        return math.pi * self.radius ** 2\n",
    "\n",
    "# Create a list of shapes (Square and Disk)\n",
    "shapes = [Square(2), Disk(3)]\n",
    "\n",
    "# Polymorphism: call the \"area\" method of each subclass\n",
    "print(\"Areas of shapes (Square(2), Disk(3)) ...\", [s.area() for s in shapes])\n",
    "# Output will be: [4, 28.274333882308138]\n",
    "\n",
    "# If we try to call \"area()\" on the base class directly, it will raise an error\n",
    "s = Shape2D()\n",
    "try:\n",
    "    s.area() \n",
    "except NotImplementedError as e:\n",
    "    print(\"Calling Shape2D().area() ... NotImplementedError:\", e)"
   ]
  },
  {
   "cell_type": "markdown",
   "id": "20168419-1d9b-47b7-8895-3416b762bc02",
   "metadata": {},
   "source": [
    "# SCIENTIFIC COMPUTING LIBRARY"
   ]
  },
  {
   "cell_type": "markdown",
   "id": "8ae84b2d-9d76-417c-b669-d9b9bea1f6e6",
   "metadata": {},
   "source": [
    "## Numpy: array and matrix processing library"
   ]
  },
  {
   "cell_type": "code",
   "execution_count": 48,
   "id": "0f8e1d4a-4060-477a-ada8-b20788ba86a8",
   "metadata": {},
   "outputs": [],
   "source": [
    "# Enable Python 3 print() in Python 2 and import numpy for numerical operations\n",
    "from __future__ import print_function\n",
    "import numpy as np"
   ]
  },
  {
   "cell_type": "markdown",
   "id": "da48eccf-f6d7-4550-bc5e-7a90e966ed15",
   "metadata": {},
   "source": [
    "### Create array"
   ]
  },
  {
   "cell_type": "code",
   "execution_count": 49,
   "id": "66f2424b-1f14-4094-8fb1-07859026b498",
   "metadata": {},
   "outputs": [
    {
     "name": "stdout",
     "output_type": "stream",
     "text": [
      "arr1: <class 'numpy.ndarray'>\n",
      "[1 2 3 4 5]\n",
      "\n",
      "arr2: <class 'numpy.ndarray'>\n",
      "[[1 2 3 4]\n",
      " [5 6 7 8]]\n",
      "\n",
      "List: <class 'list'> [[1, 2, 3, 4], [5, 6, 7, 8]]\n"
     ]
    }
   ],
   "source": [
    "# Create arrays from lists, convert 2D arrays back to lists, and print types and contents\n",
    "# 1D array example\n",
    "data1 = [1, 2, 3, 4, 5]            # Original Python list\n",
    "arr1 = np.array(data1)             # Convert list to numpy array (1D)\n",
    "print(f\"arr1: {type(arr1)}\\n{arr1}\\n\")  # Print type and contents of arr1\n",
    "\n",
    "# 2D array example\n",
    "data2 = [range(1, 5), range(5, 9)] # List of ranges to form 2D structure\n",
    "arr2 = np.array(data2)             # Convert list of ranges to numpy 2D array\n",
    "print(f\"arr2: {type(arr2)}\\n{arr2}\\n\")  # Print type and contents of arr2\n",
    "\n",
    "# Convert numpy array back to list\n",
    "lst = arr2.tolist()                # Convert 2D numpy array back to standard Python list\n",
    "print(f'List: {type(lst)} {lst}') # Print type and contents of the list\n"
   ]
  },
  {
   "cell_type": "markdown",
   "id": "2c8ffc10-b870-4747-a43d-932afd9a4b6a",
   "metadata": {},
   "source": [
    "### Create special array"
   ]
  },
  {
   "cell_type": "code",
   "execution_count": 54,
   "id": "55b2030c-2b57-4739-8165-2bad790d0452",
   "metadata": {},
   "outputs": [
    {
     "name": "stdout",
     "output_type": "stream",
     "text": [
      "1D zeros array: [0. 0. 0. 0. 0. 0. 0. 0. 0. 0.], shape: (10,), dtype: float64\n",
      "2D zeros array: \n",
      "[[0. 0. 0. 0. 0. 0.]\n",
      " [0. 0. 0. 0. 0. 0.]\n",
      " [0. 0. 0. 0. 0. 0.]], shape: (3, 6), dtype: float64\n",
      "1D ones array: [1. 1. 1. 1. 1. 1. 1. 1. 1. 1.], shape: (10,), dtype: float64\n",
      "Linspace array: [0.   0.25 0.5  0.75 1.  ], shape: (5,), dtype: float64\n",
      "Logspace array: [   1.   10.  100. 1000.], shape: (4,), dtype: float64\n"
     ]
    }
   ],
   "source": [
    "# Create arrays with predefined values and print full details\n",
    "arr_zeros_1d = np.zeros(10)            # 1D array with 10 zeros\n",
    "print(f\"1D zeros array: {arr_zeros_1d}, shape: {arr_zeros_1d.shape}, dtype: {arr_zeros_1d.dtype}\")\n",
    "\n",
    "arr_zeros_2d = np.zeros((3, 6))        # 2D array with 3 rows, 6 columns, all zeros\n",
    "print(f\"2D zeros array: \\n{arr_zeros_2d}, shape: {arr_zeros_2d.shape}, dtype: {arr_zeros_2d.dtype}\")\n",
    "\n",
    "arr_ones = np.ones(10)                  # 1D array with 10 ones\n",
    "print(f\"1D ones array: {arr_ones}, shape: {arr_ones.shape}, dtype: {arr_ones.dtype}\")\n",
    "\n",
    "arr_linspace = np.linspace(0, 1, 5)    # 5 evenly spaced numbers from 0 to 1\n",
    "print(f\"Linspace array: {arr_linspace}, shape: {arr_linspace.shape}, dtype: {arr_linspace.dtype}\")\n",
    "\n",
    "arr_logspace = np.logspace(0, 3, 4)    # 4 numbers logarithmically spaced from 10^0 to 10^3\n",
    "print(f\"Logspace array: {arr_logspace}, shape: {arr_logspace.shape}, dtype: {arr_logspace.dtype}\")"
   ]
  },
  {
   "cell_type": "code",
   "execution_count": 55,
   "id": "3df00b03-c667-479e-af5b-98ee061fca04",
   "metadata": {},
   "outputs": [
    {
     "name": "stdout",
     "output_type": "stream",
     "text": [
      "Original int array: [0 1 2 3 4], dtype: int64\n",
      "Converted float array: [0. 1. 2. 3. 4.], dtype: float64\n"
     ]
    }
   ],
   "source": [
    "# Convert an integer array to float and print full details\n",
    "int_array = np.arange(5)                # Create integer array: [0, 1, 2, 3, 4]\n",
    "float_array = int_array.astype(float)   # Cast integers to floats: [0.0, 1.0, 2.0, 3.0, 4.0]\n",
    "print(f\"Original int array: {int_array}, dtype: {int_array.dtype}\")  # Print int array and type\n",
    "print(f\"Converted float array: {float_array}, dtype: {float_array.dtype}\")  # Print float array and type"
   ]
  },
  {
   "cell_type": "markdown",
   "id": "c7544888-d7ca-4845-a149-adc6e4b270be",
   "metadata": {},
   "source": [
    "### Check array properties"
   ]
  },
  {
   "cell_type": "code",
   "execution_count": 56,
   "id": "a63c778f-163e-4648-b34e-917a86c46436",
   "metadata": {},
   "outputs": [
    {
     "name": "stdout",
     "output_type": "stream",
     "text": [
      "arr1 dtype: int64\n",
      "arr2 ndim: 2\n",
      "arr2 shape: (2, 4)\n",
      "arr2 size: 8\n",
      "len(arr2): 2\n"
     ]
    }
   ],
   "source": [
    "# Print full details of array properties\n",
    "print(f\"arr1 dtype: {arr1.dtype}\")       # Data type of arr1 (e.g., float64)\n",
    "print(f\"arr2 ndim: {arr2.ndim}\")         # Number of dimensions of arr2 (2)\n",
    "print(f\"arr2 shape: {arr2.shape}\")       # Shape of arr2: 2 rows x 4 columns\n",
    "print(f\"arr2 size: {arr2.size}\")         # Total number of elements in arr2: 8\n",
    "print(f\"len(arr2): {len(arr2)}\")         # Length of first dimension (number of rows: 2)"
   ]
  },
  {
   "cell_type": "markdown",
   "id": "783d8284-a8c1-4f8c-86cf-c81a2e037ee3",
   "metadata": {},
   "source": [
    "### Reshape"
   ]
  },
  {
   "cell_type": "code",
   "execution_count": 57,
   "id": "eca4bca2-66fa-4b43-8e3d-3054b938aa0e",
   "metadata": {},
   "outputs": [
    {
     "name": "stdout",
     "output_type": "stream",
     "text": [
      "Original arr: [0. 1. 2. 3. 4. 5. 6. 7. 8. 9.], shape: (10,), dtype: float64\n",
      "Reshaped arr: [[0. 1. 2. 3. 4.]\n",
      " [5. 6. 7. 8. 9.]], shape: (2, 5), dtype: float64\n"
     ]
    }
   ],
   "source": [
    "# Create a float array, reshape it to 2D, and print full details\n",
    "arr = np.arange(10, dtype=float)  \n",
    "# arr: [0. 1. 2. 3. 4. 5. 6. 7. 8. 9.], shape: (10,), type: float64\n",
    "print(f\"Original arr: {arr}, shape: {arr.shape}, dtype: {arr.dtype}\")\n",
    "\n",
    "arr = arr.reshape((2, 5))          \n",
    "# arr reshaped: [[0. 1. 2. 3. 4.]\n",
    "#                [5. 6. 7. 8. 9.]], shape: (2,5), type: float64\n",
    "print(f\"Reshaped arr: {arr}, shape: {arr.shape}, dtype: {arr.dtype}\")"
   ]
  },
  {
   "cell_type": "code",
   "execution_count": 58,
   "id": "5e7fc299-0a29-4a2d-ae08-74b2880cb83a",
   "metadata": {},
   "outputs": [
    {
     "name": "stdout",
     "output_type": "stream",
     "text": [
      "Before adding new axis: [0 1], shape: (2,)\n",
      "After adding new axis: shape=(2, 1)\n",
      "[[0]\n",
      " [1]]\n",
      "Transpose: shape=(1, 2) - [[0 1]]\n"
     ]
    }
   ],
   "source": [
    "# Add a new axis to a 1D array, then transpose and print full details\n",
    "a = np.array([0, 1])                    \n",
    "print(f\"Before adding new axis: {a}, shape: {a.shape}\")  # Original 1D array, shape (2,)\n",
    "\n",
    "a_col = a[:, np.newaxis]                # Add a new axis to convert to 2D column (shape: (2,1))\n",
    "# or a_col = a[:, None]                 # Alternative syntax\n",
    "print(f\"After adding new axis: shape={a_col.shape}\\n{a_col}\")  # Print column array\n",
    "\n",
    "a_transpose = a_col.T                    # Transpose column to row (shape: (1,2))\n",
    "print(f\"Transpose: shape={a_transpose.shape} - {a_transpose}\") # Print transposed array\n"
   ]
  },
  {
   "cell_type": "code",
   "execution_count": 59,
   "id": "0b577224-9cdd-4f88-abb0-adcc5031913e",
   "metadata": {},
   "outputs": [
    {
     "name": "stdout",
     "output_type": "stream",
     "text": [
      "Flattened and modified array: [33.  1.  2.  3.  4.  5.  6.  7.  8.  9.]\n",
      "Original array unchanged: [[0. 1. 2. 3. 4.]\n",
      " [5. 6. 7. 8. 9.]]\n"
     ]
    }
   ],
   "source": [
    "# Flatten a multi-dimensional array to 1D (creates a copy), modify it, and print full details\n",
    "arr_flt = arr.flatten()                  # Flatten arr to 1D copy\n",
    "arr_flt[0] = 33                          # Modify first element of flattened array\n",
    "print(f\"Flattened and modified array: {arr_flt}\")  # Print modified flattened array\n",
    "print(f\"Original array unchanged: {arr}\")         # Print original array to show it is unchanged"
   ]
  },
  {
   "cell_type": "code",
   "execution_count": 60,
   "id": "ac9636b2-50ae-432a-a0bc-4fa452a90341",
   "metadata": {},
   "outputs": [
    {
     "name": "stdout",
     "output_type": "stream",
     "text": [
      "Raveled and modified array: [33.  1.  2.  3.  4.  5.  6.  7.  8.  9.]\n",
      "Original array affected: [[33.  1.  2.  3.  4.]\n",
      " [ 5.  6.  7.  8.  9.]]\n"
     ]
    }
   ],
   "source": [
    "# Ravel a multi-dimensional array to 1D (returns a view), modify it, and print full details\n",
    "arr_flt = arr.ravel()                     # Flatten arr to 1D view (no copy)\n",
    "arr_flt[0] = 33                           # Modify first element of flattened view\n",
    "print(f\"Raveled and modified array: {arr_flt}\")  # Print raveled array\n",
    "print(f\"Original array affected: {arr}\")         # Print original array to show it is modified"
   ]
  },
  {
   "cell_type": "markdown",
   "id": "9fa9d9fa-bc72-4587-b25a-3fb132df095e",
   "metadata": {},
   "source": [
    "### Array access"
   ]
  },
  {
   "cell_type": "code",
   "execution_count": 61,
   "id": "57a06cfb-c74e-41ac-926f-45d76b77854f",
   "metadata": {},
   "outputs": [
    {
     "name": "stdout",
     "output_type": "stream",
     "text": [
      "x before reshape: shape=(24,) - [ 0  1  2  3  4  5  6  7  8  9 10 11 12 13 14 15 16 17 18 19 20 21 22 23]\n",
      "x after reshape: shape=(2, 3, 4)\n",
      "[[[ 0  1  2  3]\n",
      "  [ 4  5  6  7]\n",
      "  [ 8  9 10 11]]\n",
      "\n",
      " [[12 13 14 15]\n",
      "  [16 17 18 19]\n",
      "  [20 21 22 23]]]\n"
     ]
    }
   ],
   "source": [
    "# Create a 1D array and reshape it to 3D, then print full details\n",
    "x = np.arange(2 * 3 * 4)                  # 1D array with values [0, 1, ..., 23], total 24 elements\n",
    "print(f\"x before reshape: shape={x.shape} - {x}\")  # Print shape and contents of 1D array\n",
    "\n",
    "x = x.reshape(2, 3, 4)                    # Reshape to 3D array: 2 blocks, 3 rows, 4 columns\n",
    "print(f\"x after reshape: shape={x.shape}\\n{x}\")   # Print shape and contents of 3D array"
   ]
  },
  {
   "cell_type": "code",
   "execution_count": 62,
   "id": "7a71666c-f035-4ab0-9d46-428312f72830",
   "metadata": {},
   "outputs": [
    {
     "name": "stdout",
     "output_type": "stream",
     "text": [
      "Elements at index 0 along axis 0:\n",
      "[[ 0  1  2  3]\n",
      " [ 4  5  6  7]\n",
      " [ 8  9 10 11]]\n"
     ]
    }
   ],
   "source": [
    "# Select all elements in the first \"block\" along axis 0 and print full details\n",
    "print(f\"Elements at index 0 along axis 0:\\n{x[0, :, :]}\")  \n",
    "# x[0, :, :] selects the first 2D slice (first block) of the 3D array x"
   ]
  },
  {
   "cell_type": "code",
   "execution_count": 63,
   "id": "d14a4fc7-5c06-405c-abea-e020699830d3",
   "metadata": {},
   "outputs": [
    {
     "name": "stdout",
     "output_type": "stream",
     "text": [
      "Elements at index 0 along axis 1 (first row of each block):\n",
      "[[ 0  1  2  3]\n",
      " [12 13 14 15]]\n"
     ]
    }
   ],
   "source": [
    "# Select all elements in the first row along axis 1 and print full details\n",
    "print(f\"Elements at index 0 along axis 1 (first row of each block):\\n{x[:, 0, :]}\")  \n",
    "# x[:, 0, :] selects the first row from each 2D block in the 3D array x"
   ]
  },
  {
   "cell_type": "code",
   "execution_count": 65,
   "id": "40bb58c1-c8ed-4032-840a-3cf3e26ab9ff",
   "metadata": {},
   "outputs": [
    {
     "name": "stdout",
     "output_type": "stream",
     "text": [
      "Elements at index 0 along axis 2 (first column of each row in each block):\n",
      "[[ 0  4  8]\n",
      " [12 16 20]]\n"
     ]
    }
   ],
   "source": [
    "# Select all elements in the first column along axis 2 and print full details\n",
    "print(f\"Elements at index 0 along axis 2 (first column of each row in each block):\\n{x[:, :, 0]}\")  \n",
    "# x[:, :, 0] selects the first column from each row in every 2D block of the 3D array x"
   ]
  },
  {
   "cell_type": "markdown",
   "id": "68acc766-6b95-45be-a9cb-9dfaa0a9b8f2",
   "metadata": {},
   "source": [
    "### Merge 2 arrays"
   ]
  },
  {
   "cell_type": "code",
   "execution_count": 66,
   "id": "f58bf389-2334-4d38-84ec-c0b685eb71c2",
   "metadata": {},
   "outputs": [
    {
     "name": "stdout",
     "output_type": "stream",
     "text": [
      "a: [0 1], shape: (2,), dtype: int64\n",
      "b: [2 3], shape: (2,), dtype: int64\n"
     ]
    }
   ],
   "source": [
    "# Create two 1D arrays and print full details\n",
    "a = np.array([0, 1])                       # 1D array with elements [0, 1]\n",
    "b = np.array([2, 3])                       # 1D array with elements [2, 3]\n",
    "print(f\"a: {a}, shape: {a.shape}, dtype: {a.dtype}\")  # Print array a details\n",
    "print(f\"b: {b}, shape: {b.shape}, dtype: {b.dtype}\")  # Print array b details"
   ]
  },
  {
   "cell_type": "code",
   "execution_count": 67,
   "id": "dc236cb7-4f3e-4881-914a-359371312e2b",
   "metadata": {},
   "outputs": [
    {
     "name": "stdout",
     "output_type": "stream",
     "text": [
      "Horizontal stack: [0 1 2 3], shape: (4,), dtype: int64\n"
     ]
    }
   ],
   "source": [
    "# Horizontally stack two 1D arrays and print full details\n",
    "hstack_arr = np.hstack([a, b])             # Concatenate arrays a and b along horizontal axis (1D)\n",
    "print(f\"Horizontal stack: {hstack_arr}, shape: {hstack_arr.shape}, dtype: {hstack_arr.dtype}\")"
   ]
  },
  {
   "cell_type": "code",
   "execution_count": 68,
   "id": "81aa83d0-9acb-427b-acef-1439a33c365a",
   "metadata": {},
   "outputs": [
    {
     "name": "stdout",
     "output_type": "stream",
     "text": [
      "Vertical stack:\n",
      "[[0 1]\n",
      " [2 3]], shape: (2, 2), dtype: int64\n"
     ]
    }
   ],
   "source": [
    "# Vertically stack two 1D arrays and print full details\n",
    "vstack_arr = np.vstack([a, b])             # Stack arrays a and b along vertical axis to form 2D array\n",
    "print(f\"Vertical stack:\\n{vstack_arr}, shape: {vstack_arr.shape}, dtype: {vstack_arr.dtype}\")"
   ]
  },
  {
   "cell_type": "markdown",
   "id": "2d27b958-e961-440d-afe9-952294795c42",
   "metadata": {},
   "source": [
    "### Select on array"
   ]
  },
  {
   "cell_type": "code",
   "execution_count": 69,
   "id": "1d26912f-8290-4621-84d5-0a2240edb364",
   "metadata": {},
   "outputs": [
    {
     "name": "stdout",
     "output_type": "stream",
     "text": [
      "Array:\n",
      "[[0. 1. 2. 3. 4.]\n",
      " [5. 6. 7. 8. 9.]]\n",
      "Row 0 (slice): [0. 1. 2. 3. 4.]\n",
      "Element at row 0, column 3: 3.0\n",
      "Element at row 0, column 3 (alternative): 3.0\n"
     ]
    }
   ],
   "source": [
    "# Access individual elements and slices in a 2D array and print full details\n",
    "arr = np.arange(10, dtype=float).reshape((2, 5))  # 2D array with shape (2,5)\n",
    "print(f\"Array:\\n{arr}\")\n",
    "\n",
    "print(f\"Row 0 (slice): {arr[0]}\")                 # Access all elements in row 0\n",
    "print(f\"Element at row 0, column 3: {arr[0, 3]}\") # Access single element using comma indexing\n",
    "print(f\"Element at row 0, column 3 (alternative): {arr[0][3]}\")  # Access same element using chained indexing"
   ]
  },
  {
   "cell_type": "code",
   "execution_count": 70,
   "id": "8edca9c7-a844-414d-a2aa-8eac0eaca705",
   "metadata": {},
   "outputs": [
    {
     "name": "stdout",
     "output_type": "stream",
     "text": [
      "Row 0: [0. 1. 2. 3. 4.]\n",
      "Column 0: [0. 5.]\n",
      "First 2 columns: [[0. 1.]\n",
      " [5. 6.]]\n",
      "Columns from index 2 onwards: [[2. 3. 4.]\n",
      " [7. 8. 9.]]\n",
      "Sliced array (columns 1 to 3):\n",
      "[[1. 2. 3.]\n",
      " [6. 7. 8.]]\n"
     ]
    }
   ],
   "source": [
    "# Demonstrate slicing in 2D arrays and print full details\n",
    "# Syntax: start:stop:step (start default 0, stop default last, step default 1)\n",
    "\n",
    "print(f\"Row 0: {arr[0, :]}\")            # Select all columns in row 0 (1D array)\n",
    "print(f\"Column 0: {arr[:, 0]}\")         # Select all rows in column 0 (1D array)\n",
    "print(f\"First 2 columns: {arr[:, :2]}\") # Select first two columns from all rows\n",
    "print(f\"Columns from index 2 onwards: {arr[:, 2:]}\") # Select columns from index 2 to end\n",
    "\n",
    "arr2 = arr[:, 1:4]                       # Select columns 1 to 3 (1-based: 1,2,3) for all rows\n",
    "print(f\"Sliced array (columns 1 to 3):\\n{arr2}\")"
   ]
  },
  {
   "cell_type": "code",
   "execution_count": 71,
   "id": "2b5c10e7-8aff-4aff-ac65-dbd35181f413",
   "metadata": {},
   "outputs": [
    {
     "name": "stdout",
     "output_type": "stream",
     "text": [
      "Modified slice arr2:\n",
      "[[33.  2.  3.]\n",
      " [ 6.  7.  8.]]\n",
      "Original array arr after modification:\n",
      "[[ 0. 33.  2.  3.  4.]\n",
      " [ 5.  6.  7.  8.  9.]]\n"
     ]
    }
   ],
   "source": [
    "# Modify an element in a slice (view) and show that original array is affected\n",
    "arr2[0, 0] = 33                         # Change first element of arr2\n",
    "print(f\"Modified slice arr2:\\n{arr2}\")  # Print modified slice\n",
    "print(f\"Original array arr after modification:\\n{arr}\")  # Original arr is updated because slicing returns a view"
   ]
  },
  {
   "cell_type": "code",
   "execution_count": 72,
   "id": "2856c5ae-d761-48e3-be98-73571cc90b13",
   "metadata": {},
   "outputs": [
    {
     "name": "stdout",
     "output_type": "stream",
     "text": [
      "Reversed row 0: [ 4.  3.  2. 33.  0.]\n"
     ]
    }
   ],
   "source": [
    "# Reverse the elements of row 0 and print full details\n",
    "reversed_row = arr[0, ::-1]             # Slice row 0 with step -1 to reverse elements\n",
    "print(f\"Reversed row 0: {reversed_row}\") # Print reversed row"
   ]
  },
  {
   "cell_type": "code",
   "execution_count": 73,
   "id": "c77ce7ac-3be3-4c7f-a257-1e48d8ceed77",
   "metadata": {},
   "outputs": [
    {
     "name": "stdout",
     "output_type": "stream",
     "text": [
      "Fancy indexed array (copy):\n",
      "[[33.  2.  3.]\n",
      " [ 6.  7.  8.]]\n",
      "Modified fancy indexed array:\n",
      "[[44.  2.  3.]\n",
      " [ 6.  7.  8.]]\n",
      "Original array arr remains unchanged:\n",
      "[[ 0. 33.  2.  3.  4.]\n",
      " [ 5.  6.  7.  8.  9.]]\n"
     ]
    }
   ],
   "source": [
    "# Fancy indexing with integer array returns a copy; modifying it does not affect the original array\n",
    "arr2 = arr[:, [1, 2, 3]]                 # Select columns 1, 2, 3 from all rows (returns a copy)\n",
    "print(f\"Fancy indexed array (copy):\\n{arr2}\")\n",
    "\n",
    "arr2[0, 0] = 44                          # Modify first element of the copy\n",
    "print(f\"Modified fancy indexed array:\\n{arr2}\")\n",
    "print(f\"Original array arr remains unchanged:\\n{arr}\")  # Original array is unaffected"
   ]
  },
  {
   "cell_type": "code",
   "execution_count": 74,
   "id": "7e16d0cd-f285-468b-83e5-9eabff80a2b7",
   "metadata": {},
   "outputs": [
    {
     "name": "stdout",
     "output_type": "stream",
     "text": [
      "Boolean index mask:\n",
      "[[False  True False False False]\n",
      " [False  True  True  True  True]]\n",
      "Selected elements (copy):\n",
      "[33.  6.  7.  8.  9.]\n",
      "Modified copy arr2:\n",
      "[44.  6.  7.  8.  9.]\n",
      "Original array arr remains unchanged:\n",
      "[[ 0. 33.  2.  3.  4.]\n",
      " [ 5.  6.  7.  8.  9.]]\n"
     ]
    }
   ],
   "source": [
    "# Boolean array indexing: select elements based on a condition and print full details\n",
    "b_filter = arr > 5                        # Create boolean mask where elements greater than 5 are True\n",
    "print(f\"Boolean index mask:\\n{b_filter}\") \n",
    "\n",
    "arr2 = arr[b_filter]                      # Apply mask to get a copy of elements > 5\n",
    "print(f\"Selected elements (copy):\\n{arr2}\")\n",
    "\n",
    "arr2[0] = 44                              # Modify first element of the copy\n",
    "print(f\"Modified copy arr2:\\n{arr2}\")\n",
    "print(f\"Original array arr remains unchanged:\\n{arr}\")  # Original array is unaffected"
   ]
  },
  {
   "cell_type": "code",
   "execution_count": 75,
   "id": "79f2b1bf-9a48-4faf-97b9-f134dc51b8e4",
   "metadata": {},
   "outputs": [
    {
     "name": "stdout",
     "output_type": "stream",
     "text": [
      "Boolean index for 'Bob':\n",
      "[ True False False  True]\n",
      "Elements not 'Bob':\n",
      "['Joe' 'Will']\n",
      "Boolean index for 'Bob' or 'Will':\n",
      "[ True False  True  True]\n",
      "Modified names array:\n",
      "['Bob' 'Joe' 'Joe' 'Bob']\n",
      "Unique elements:\n",
      "['Bob' 'Joe']\n"
     ]
    }
   ],
   "source": [
    "# Boolean indexing with string arrays and printing full details\n",
    "names = np.array(['Bob', 'Joe', 'Will', 'Bob'])  \n",
    "\n",
    "b_filter = names == 'Bob'                   # Create boolean mask where name is 'Bob'\n",
    "print(f\"Boolean index for 'Bob':\\n{b_filter}\")\n",
    "\n",
    "arr1 = names[names != 'Bob']               # Select elements not equal to 'Bob' (returns a copy)\n",
    "print(f\"Elements not 'Bob':\\n{arr1}\")\n",
    "\n",
    "b_filter1 = (names == 'Bob') | (names == 'Will')  # Boolean mask using OR operator\n",
    "print(f\"Boolean index for 'Bob' or 'Will':\\n{b_filter1}\")\n",
    "\n",
    "names[names != 'Bob'] = 'Joe'              # Modify elements not 'Bob' to 'Joe'\n",
    "print(f\"Modified names array:\\n{names}\")\n",
    "\n",
    "arr2 = np.unique(names)                     # Get unique elements from names\n",
    "print(f\"Unique elements:\\n{arr2}\")"
   ]
  },
  {
   "cell_type": "markdown",
   "id": "9e7bda0f-bfbe-4bbd-bd1c-3f952bb45821",
   "metadata": {},
   "source": [
    "### Array operations"
   ]
  },
  {
   "cell_type": "code",
   "execution_count": 76,
   "id": "dc28ccb2-533d-43b3-afba-4f22b414cd4d",
   "metadata": {},
   "outputs": [
    {
     "name": "stdout",
     "output_type": "stream",
     "text": [
      "Original nums: [0 1 2 3 4]\n",
      "nums * 10 (element-wise multiplication): [ 0 10 20 30 40]\n",
      "Square root of nums: [0.         1.         1.41421356 1.73205081 2.        ]\n",
      "Ceil of nums: [0. 1. 2. 2. 2.]\n",
      "Check NaN in nums: [False False False False False]\n",
      "Element-wise addition: [0.         2.         3.41421356 4.73205081 6.        ]\n",
      "Element-wise maximum: [1.         1.         3.         1.73205081 5.        ]\n",
      "Euclidean distance between vec1 and vec2: 4.118382459327125\n",
      "Random 4x2 array:\n",
      "[[ 0.49184724 -0.13294512]\n",
      " [-0.27616913 -0.17131066]\n",
      " [-0.07767935 -1.16753399]\n",
      " [-2.30927779  0.52309626]]\n",
      "Mean: -0.3899965681421834, Std: 0.8749278238004925\n",
      "Index of minimum element: 6\n",
      "Sum of all elements: -3.1199725451374674\n",
      "Sum of columns: [-2.17127903 -0.94869352]\n",
      "Sum of rows: [ 0.35890212 -0.44747979 -1.24521334 -1.78618154]\n",
      "Number of positive values: 2\n",
      "Any positive? True\n",
      "All positive? False\n",
      "Random 2x3 array in [0,1]:\n",
      "[[0.00630595 0.20303476 0.76478993]\n",
      " [0.55513384 0.74358546 0.93777808]]\n",
      "Random normal vector of size 10: [-2.79962074e-01  1.31281104e+00 -9.27155784e-01 -4.01302169e-01\n",
      " -2.31085929e+00 -2.08460156e+00  4.59241643e-01  1.62191344e+00\n",
      "  1.94515120e-01 -2.08631547e-03]\n",
      "Random integers 0 or 1, size 10: [0 0 0 1 1 0 1 1 1 1]\n"
     ]
    }
   ],
   "source": [
    "# Demonstrate element-wise operations, statistics, boolean methods, and random numbers in NumPy\n",
    "\n",
    "nums = np.arange(5)                       \n",
    "print(f\"Original nums: {nums}\")\n",
    "\n",
    "print(f\"nums * 10 (element-wise multiplication): {nums * 10}\")  # Multiply each element by 10\n",
    "\n",
    "nums = np.sqrt(nums)                        # Square root of each element\n",
    "print(f\"Square root of nums: {nums}\")\n",
    "\n",
    "print(f\"Ceil of nums: {np.ceil(nums)}\")     # Round each element up to nearest integer\n",
    "print(f\"Check NaN in nums: {np.isnan(nums)}\") # Check for NaN in array\n",
    "\n",
    "print(f\"Element-wise addition: {nums + np.arange(5)}\") # Add arrays element-wise\n",
    "\n",
    "print(f\"Element-wise maximum: {np.maximum(nums, np.array([1, -2, 3, -4, 5]))}\") # Compare element-wise\n",
    "\n",
    "# Compute Euclidean distance between two vectors\n",
    "vec1 = np.random.randn(10)                  # Random normal vector of size 10\n",
    "vec2 = np.random.randn(10)                  # Another random normal vector of size 10\n",
    "dist = np.sqrt(np.sum((vec1 - vec2) ** 2))  # Euclidean distance\n",
    "print(f\"Euclidean distance between vec1 and vec2: {dist}\")\n",
    "\n",
    "# Math and statistics on arrays\n",
    "rnd = np.random.randn(4, 2)                 # 4x2 array of random normal numbers\n",
    "print(f\"Random 4x2 array:\\n{rnd}\")\n",
    "print(f\"Mean: {rnd.mean()}, Std: {rnd.std()}\")\n",
    "print(f\"Index of minimum element: {rnd.argmin()}\")\n",
    "print(f\"Sum of all elements: {rnd.sum()}\")\n",
    "print(f\"Sum of columns: {rnd.sum(axis=0)}\")\n",
    "print(f\"Sum of rows: {rnd.sum(axis=1)}\")\n",
    "\n",
    "# Methods for boolean arrays\n",
    "print(f\"Number of positive values: {(rnd > 0).sum()}\")\n",
    "print(f\"Any positive? {(rnd > 0).any()}\")\n",
    "print(f\"All positive? {(rnd > 0).all()}\")\n",
    "\n",
    "# Random numbers generation\n",
    "np.random.seed(12234)                       # Set seed for reproducibility\n",
    "print(f\"Random 2x3 array in [0,1]:\\n{np.random.rand(2, 3)}\")\n",
    "print(f\"Random normal vector of size 10: {np.random.randn(10)}\")\n",
    "print(f\"Random integers 0 or 1, size 10: {np.random.randint(0, 2, 10)}\")"
   ]
  },
  {
   "cell_type": "markdown",
   "id": "d5189315-0d54-435d-8a3f-9d5a06ca287a",
   "metadata": {},
   "source": [
    "### Broadcasting (Implicit Extending)\n",
    "\n",
    "Implicit conversions to allow operations on arrays of different sizes.\n",
    "- Smaller arrays are extended or \"Broadcasted\" to larger arrays so they have compatible shapes.\n",
    "- Fast vector operators use C (the underlying Python) instead of Python.\n",
    "- No copying required."
   ]
  },
  {
   "cell_type": "code",
   "execution_count": 77,
   "id": "39821600-8267-44d9-a4c3-a96b32406824",
   "metadata": {},
   "outputs": [
    {
     "name": "stdout",
     "output_type": "stream",
     "text": [
      "a + b with broadcasting:\n",
      "[[ 0  1  2]\n",
      " [10 11 12]\n",
      " [20 21 22]\n",
      " [30 31 32]]\n"
     ]
    }
   ],
   "source": [
    "# Demonstrate broadcasting in NumPy: add 1D array to 2D array\n",
    "a = np.array([[ 0, 0, 0],\n",
    "              [10, 10, 10],\n",
    "              [20, 20, 20],\n",
    "              [30, 30, 30]])              # 2D array with shape (4,3)\n",
    "\n",
    "b = np.array([0, 1, 2])                  # 1D array with shape (3,)\n",
    "result = a + b                            # Broadcasting: b is added to each row of a\n",
    "print(f\"a + b with broadcasting:\\n{result}\")"
   ]
  },
  {
   "cell_type": "code",
   "execution_count": 78,
   "id": "6f6c6af8-9e6b-4504-a976-4548434cbc01",
   "metadata": {},
   "outputs": [
    {
     "name": "stdout",
     "output_type": "stream",
     "text": [
      "Array after subtracting column-wise mean:\n",
      "[[-15. -15. -15.]\n",
      " [ -5.  -5.  -5.]\n",
      " [  5.   5.   5.]\n",
      " [ 15.  15.  15.]]\n"
     ]
    }
   ],
   "source": [
    "# Subtract the column-wise mean from each element (center the data)\n",
    "result = a - a.mean(axis=0)              # Compute mean of each column and subtract from each element\n",
    "print(f\"Array after subtracting column-wise mean:\\n{result}\")"
   ]
  },
  {
   "cell_type": "code",
   "execution_count": 79,
   "id": "5815267f-eaa3-4910-9247-754336c86864",
   "metadata": {},
   "outputs": [
    {
     "name": "stdout",
     "output_type": "stream",
     "text": [
      "Standardized array (zero mean, unit std):\n",
      "[[-1.34164079 -1.34164079 -1.34164079]\n",
      " [-0.4472136  -0.4472136  -0.4472136 ]\n",
      " [ 0.4472136   0.4472136   0.4472136 ]\n",
      " [ 1.34164079  1.34164079  1.34164079]]\n"
     ]
    }
   ],
   "source": [
    "# Standardize array by subtracting column-wise mean and dividing by column-wise std\n",
    "standardized = (a - a.mean(axis=0)) / a.std(axis=0)  # Center and scale each column\n",
    "print(f\"Standardized array (zero mean, unit std):\\n{standardized}\")"
   ]
  },
  {
   "cell_type": "markdown",
   "id": "80a2b27e-b69d-4883-b146-a5d663c859e9",
   "metadata": {},
   "source": [
    "## Matplotlib: graphing library\n",
    "\n",
    "https://matplotlib.org/"
   ]
  },
  {
   "cell_type": "markdown",
   "id": "b0d41b72-6953-4ed2-bca2-bc2665603a75",
   "metadata": {},
   "source": [
    "### Draw a straight line"
   ]
  },
  {
   "cell_type": "code",
   "execution_count": 81,
   "id": "fd6a86fa-75c0-4ab7-abd6-cdf21bf65bb8",
   "metadata": {},
   "outputs": [
    {
     "data": {
      "image/png": "[encoded data removed]",
      "text/plain": [
       "<Figure size 640x480 with 1 Axes>"
      ]
     },
     "metadata": {},
     "output_type": "display_data"
    }
   ],
   "source": [
    "# Basic line plot using Matplotlib and print full details\n",
    "import matplotlib.pyplot as plt\n",
    "import numpy\n",
    "\n",
    "# Prepare data\n",
    "myarray = numpy.array([1, 2, 3])                  # 1D array for plotting\n",
    "\n",
    "# Plot line\n",
    "plt.plot(myarray)                                  # Plot y-values vs. index (0,1,2)\n",
    "\n",
    "# Customize plot\n",
    "plt.xlabel('some x axis')                          # Label for x-axis\n",
    "plt.ylabel('some y axis')                          # Label for y-axis\n",
    "\n",
    "# Save figure to file\n",
    "plt.savefig(\"plot2d.png\")                          # Save the plot as PNG\n",
    "\n",
    "# Show plot\n",
    "plt.show()                                         # Display the plot"
   ]
  },
  {
   "cell_type": "markdown",
   "id": "477952b6-1c17-42c4-8036-870ae966f047",
   "metadata": {},
   "source": [
    "### Scatter Plot"
   ]
  },
  {
   "cell_type": "code",
   "execution_count": 82,
   "id": "43a218a8-762f-4cbf-bef0-9a24ab57cf12",
   "metadata": {},
   "outputs": [
    {
     "data": {
      "image/png": "[encoded data removed]",
      "text/plain": [
       "<Figure size 640x480 with 1 Axes>"
      ]
     },
     "metadata": {},
     "output_type": "display_data"
    }
   ],
   "source": [
    "# Basic scatter plot using Matplotlib and print full details\n",
    "import matplotlib.pyplot as plt\n",
    "import numpy\n",
    "\n",
    "# Prepare data\n",
    "x = numpy.array([1, 2, 3])                        # x-coordinates\n",
    "y = numpy.array([2, 4, 6])                        # y-coordinates\n",
    "\n",
    "# Plot scatter\n",
    "plt.scatter(x, y)                                 # Create scatter plot of x vs y\n",
    "\n",
    "# Customize plot\n",
    "plt.xlabel('some x axis')                         # Label for x-axis\n",
    "plt.ylabel('some y axis')                         # Label for y-axis\n",
    "\n",
    "# Save figure to file\n",
    "plt.savefig(\"scatter2d.png\")                      # Save the scatter plot as PNG\n",
    "\n",
    "# Show plot\n",
    "plt.show()                                        # Display the plot"
   ]
  },
  {
   "cell_type": "markdown",
   "id": "86505157-8c9b-43ea-b488-a73e2688f3d1",
   "metadata": {},
   "source": [
    "# KẾT THÚC"
   ]
  }
 ],
 "metadata": {
  "kernelspec": {
   "display_name": "Python [conda env:base] *",
   "language": "python",
   "name": "conda-base-py"
  },
  "language_info": {
   "codemirror_mode": {
    "name": "ipython",
    "version": 3
   },
   "file_extension": ".py",
   "mimetype": "text/x-python",
   "name": "python",
   "nbconvert_exporter": "python",
   "pygments_lexer": "ipython3",
   "version": "3.13.5"
  }
 },
 "nbformat": 4,
 "nbformat_minor": 5
}
