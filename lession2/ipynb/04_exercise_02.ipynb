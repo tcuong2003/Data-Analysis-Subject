{
 "cells": [
  {
   "cell_type": "markdown",
   "id": "154c8525-a8b1-4532-8b8c-a6048596e61b",
   "metadata": {},
   "source": [
    "# Kỹ thuật lập trình Python"
   ]
  },
  {
   "cell_type": "markdown",
   "id": "bff7ceae-0971-41e5-9ad6-a25c303fecab",
   "metadata": {},
   "source": [
    "## Làm quen với Numpy"
   ]
  },
  {
   "cell_type": "markdown",
   "id": "bda2fb69-42db-4a12-8b57-7b4815510961",
   "metadata": {},
   "source": [
    "### Bài 1. Tính toán trên dãy số"
   ]
  },
  {
   "cell_type": "markdown",
   "id": "04e6a456-6793-4645-b159-426121c860a6",
   "metadata": {},
   "source": [
    "#### 1. Tạo một dãy số a có N phần tử (N = 10)"
   ]
  },
  {
   "cell_type": "code",
   "execution_count": 3,
   "id": "bac1a84b-a496-40c6-962e-97c0acaf7d8e",
   "metadata": {},
   "outputs": [
    {
     "name": "stdout",
     "output_type": "stream",
     "text": [
      "1. Tạo một dãy số a có N phần tử (N = 10)\n",
      "Day so a:  [3 7 1 9 9 5 2 6 3 2]\n"
     ]
    }
   ],
   "source": [
    "import numpy as np  # Khai báo thư viện numpy\n",
    "\n",
    "print(\"1. Tạo một dãy số a có N phần tử (N = 10)\")\n",
    "\n",
    "N = 10\n",
    "# Tạo dãy số a gồm 10 số nguyên ngẫu nhiên từ 0 đến 9\n",
    "a = np.random.randint(0, 10, size=N)\n",
    "\n",
    "print(\"Day so a: \", a)"
   ]
  },
  {
   "cell_type": "markdown",
   "id": "4d85d8e2-16ff-42d1-acda-97e62736aaf6",
   "metadata": {},
   "source": [
    "#### 2. Các thao tác trên dãy số a\n",
    "(a) Bình phương các phần tử trong dãy số <br/>\n",
    "(b) Tìm số lượng các phần tử của dãy số <br/>\n",
    "(c) In ra giá trị lớn nhất, giá trị nhỏ nhất và giá trị trung bình <br/>\n",
    "(d) Tính phương sai của dãy số $\\sigma^2 = \\frac{\\sum{\\left(a_i - \\mu\\right)^2}}{N - 1}$ với $\\mu = \\frac{\\sum{a_i}}{N}$ và độ lệch chuẩn $var = \\sqrt{\\sigma^2}$"
   ]
  },
  {
   "cell_type": "code",
   "execution_count": 4,
   "id": "5d245b5b-90d5-48bf-b870-fc7c2deecd12",
   "metadata": {},
   "outputs": [
    {
     "name": "stdout",
     "output_type": "stream",
     "text": [
      "2. Các thao tác tính toán đơn giản với dãy số a\n",
      "a. Binh phuong a:  [ 9 49  1 81 81 25  4 36  9  4]\n",
      "\n",
      "b. Do dai a:  10\n",
      "\n",
      "c. Gia tri lon nhat: [9], gia tri nho nhat: [1], gia tri trung binh [4.70]\n",
      "\n",
      "d. Phuong sai: [8.68] va do lech chuan: [2.95]\n"
     ]
    }
   ],
   "source": [
    "import numpy as np\n",
    "\n",
    "# Giả sử a đã được tạo\n",
    "# a = np.random.randint(0, 10, size=10)\n",
    "\n",
    "print(\"2. Các thao tác tính toán đơn giản với dãy số a\")\n",
    "\n",
    "# a) Bình phương các phần tử\n",
    "a2 = a ** 2\n",
    "\n",
    "# b) Số lượng phần tử\n",
    "na = a.size  # hoặc len(a)\n",
    "\n",
    "# c) Giá trị lớn nhất, nhỏ nhất, trung bình\n",
    "v_max = np.max(a)\n",
    "v_min = np.min(a)\n",
    "v_avg = np.mean(a)\n",
    "\n",
    "# d) Phương sai và độ lệch chuẩn\n",
    "v_sigma2 = np.var(a, ddof=1)  # ddof=1 để tính phương sai mẫu\n",
    "v_var = np.sqrt(v_sigma2)\n",
    "\n",
    "# In kết quả\n",
    "print(\"a. Binh phuong a: \", a2)\n",
    "print(\"\\nb. Do dai a: \", na)\n",
    "print(f'\\nc. Gia tri lon nhat: [{v_max}], gia tri nho nhat: [{v_min}], gia tri trung binh [{v_avg:.2f}]')\n",
    "print(f'\\nd. Phuong sai: [{v_sigma2:.2f}] va do lech chuan: [{v_var:.2f}]')"
   ]
  },
  {
   "cell_type": "markdown",
   "id": "1b582e22-cc99-4933-892b-e0d83672fb7f",
   "metadata": {},
   "source": [
    "#### 3. Toán tử trên hai dãy số\n",
    "(a) Tạo dãy số x có 10 phần tử từ 1 đến 10 (dùng hàm np.arange) <br/>\n",
    "(b) Liệt kê và đếm số lượng phần tử chẵn và lẻ có trong dãy a và x <br/>\n",
    "(c) Tính khoảng cách giữa các phần tử ở vị trí lẻ của mảng a và x với $s = \\sqrt{\\sum{\\left(a_i - x_i\\right)^2}}$ với $i$ lẻ<br/>\n",
    "(d) Tìm khoảng cách nhỏ nhất giữa tập a và x. Ví dụ: min({1, 3, 5}, {2, 10, 8}} = 1"
   ]
  },
  {
   "cell_type": "code",
   "execution_count": 5,
   "id": "1c6f51c1-ac3d-46a8-ab35-0d087877fb9d",
   "metadata": {},
   "outputs": [
    {
     "name": "stdout",
     "output_type": "stream",
     "text": [
      "3. Xử lý khác trên dãy số\n",
      "a. Day so x: [ 1  2  3  4  5  6  7  8  9 10]\n",
      "b. So luong a: Chan = 3, Le = 7\n",
      "   So luong x: Chan = 5, Le = 5\n",
      "c. Khoang cach s = 10.91\n",
      "d. Khoang cach nho nhat giua tap a va x: 0\n"
     ]
    }
   ],
   "source": [
    "import numpy as np\n",
    "\n",
    "print(\"3. Xử lý khác trên dãy số\")\n",
    "\n",
    "# a) Tạo dãy số x có 10 phần tử từ 1 đến 10\n",
    "x = np.arange(1, 11)  # np.arange(start, stop) → stop không bao gồm, nên dùng 11\n",
    "\n",
    "print(f'a. Day so x: {x}')\n",
    "\n",
    "# b) Liệt kê và đếm số lượng phần tử chẵn và lẻ trong a và x\n",
    "achan = a[a % 2 == 0]\n",
    "ale = a[a % 2 != 0]\n",
    "xchan = x[x % 2 == 0]\n",
    "xle = x[x % 2 != 0]\n",
    "\n",
    "print(f'b. So luong a: Chan = {len(achan)}, Le = {len(ale)}')\n",
    "print(f'   So luong x: Chan = {len(xchan)}, Le = {len(xle)}')\n",
    "\n",
    "# c) Tính khoảng cách giữa các phần tử ở vị trí lẻ của mảng a và x\n",
    "# i lẻ → chỉ số 0,2,4,... vì Python index từ 0\n",
    "ai_le = a[1::2]  # các vị trí lẻ: 1,3,5,... index\n",
    "xi_le = x[1::2]\n",
    "s = np.sqrt(np.sum((ai_le - xi_le)**2))\n",
    "print(f'c. Khoang cach s = {s:.2f}')\n",
    "\n",
    "# d) Tìm khoảng cách nhỏ nhất giữa tập a và x\n",
    "# dùng broadcasting hoặc meshgrid để tìm tất cả khoảng cách\n",
    "distances = np.abs(a.reshape(-1, 1) - x.reshape(1, -1))\n",
    "min_distance = np.min(distances)\n",
    "print(f'd. Khoang cach nho nhat giua tap a va x: {min_distance}')"
   ]
  },
  {
   "cell_type": "code",
   "execution_count": 6,
   "id": "13211d38-0008-49ba-ac7b-c4ea034d12f4",
   "metadata": {},
   "outputs": [
    {
     "name": "stdout",
     "output_type": "stream",
     "text": [
      "b. Cac phan tu chan trong day a, b: \n",
      "+ Day a: [3 7 1 9 9 5 2 6 3 2]\n",
      "  - Loc chan: [2 6 2]\n",
      "  - Day chua phan tu chan trong a: [np.int64(2), np.int64(6), np.int64(2)], so luong 3 phan tu.\n",
      "+ Day x: [ 1  2  3  4  5  6  7  8  9 10]\n",
      "  - Loc chan: [ 2  4  6  8 10]\n",
      "  - Day chua phan tu chan trong a: [np.int64(2), np.int64(4), np.int64(6), np.int64(8), np.int64(10)], so luong 5 phan tu.\n"
     ]
    }
   ],
   "source": [
    "# Lọc các phần tử chẵn trong a và x\n",
    "a_la_chan = a[a % 2 == 0]  # các phần tử chẵn trong a\n",
    "a_chan = list(a_la_chan)   # chuyển thành list nếu muốn\n",
    "n_a_chan = len(a_chan)     # số lượng phần tử chẵn trong a\n",
    "\n",
    "x_la_chan = x[x % 2 == 0]  # các phần tử chẵn trong x\n",
    "x_chan = list(x_la_chan)   # chuyển thành list\n",
    "n_x_chan = len(x_chan)     # số lượng phần tử chẵn trong x\n",
    "\n",
    "# In ra kết quả\n",
    "print( \"b. Cac phan tu chan trong day a, b: \")\n",
    "print(f\"+ Day a: {a}\")\n",
    "print(f\"  - Loc chan: {a_la_chan}\")\n",
    "print(f\"  - Day chua phan tu chan trong a: {a_chan}, so luong {n_a_chan} phan tu.\")\n",
    "print(f\"+ Day x: {x}\")\n",
    "print(f\"  - Loc chan: {x_la_chan}\")\n",
    "print(f\"  - Day chua phan tu chan trong a: {x_chan}, so luong {n_x_chan} phan tu.\")"
   ]
  },
  {
   "cell_type": "code",
   "execution_count": 7,
   "id": "1d441e53-26ad-45ff-a6d4-6abbb9c66f65",
   "metadata": {},
   "outputs": [
    {
     "name": "stdout",
     "output_type": "stream",
     "text": [
      "c.Tính hiệu các phần tử ở vị trí lẻ của mảng a và x: \n",
      "+ Vi tri le trong a va x: [1, 3, 5, 7, 9]\n",
      "+ Day so a: [3 7 1 9 9 5 2 6 3 2] va cac so o vi tri le: [7 9 5 6 2]\n",
      "+ Day so x: [ 1  2  3  4  5  6  7  8  9 10] va cac so o vi tri le: [ 2  4  6  8 10]\n",
      "+ Hieu cua a va x o vi tri le: [ 5  5 -1 -2 -8]\n",
      "+ Khoang cach cac phan tu cua a va x o vi tri le:  10.91\n"
     ]
    }
   ],
   "source": [
    "# Chọn các phần tử ở vị trí lẻ (index 1,3,5,...)\n",
    "v_le = list(range(1, min(len(a), len(x)), 2))  # danh sách chỉ số lẻ\n",
    "a_le = a[v_le]  # các phần tử của a ở vị trí lẻ\n",
    "x_le = x[v_le]  # các phần tử của x ở vị trí lẻ\n",
    "\n",
    "# Tính hiệu và khoảng cách Euclid\n",
    "hieu_le = a_le - x_le\n",
    "kc_le = np.sqrt(np.sum(hieu_le**2))\n",
    "\n",
    "# In kết quả\n",
    "print(\"c.Tính hiệu các phần tử ở vị trí lẻ của mảng a và x: \")\n",
    "print(f\"+ Vi tri le trong a va x: {v_le}\")\n",
    "print(f\"+ Day so a: {a} va cac so o vi tri le: {a_le}\")\n",
    "print(f\"+ Day so x: {x} va cac so o vi tri le: {x_le}\")\n",
    "print(f\"+ Hieu cua a va x o vi tri le: {hieu_le}\")\n",
    "print(f\"+ Khoang cach cac phan tu cua a va x o vi tri le: {kc_le: .2f}\")"
   ]
  },
  {
   "cell_type": "code",
   "execution_count": 8,
   "id": "92f5e91d-e213-4146-b873-0d2936c6990e",
   "metadata": {},
   "outputs": [
    {
     "name": "stdout",
     "output_type": "stream",
     "text": [
      "+ Day a: [3 7 1 9 9 5 2 6 3 2]\n",
      "+ Day x: [ 1  2  3  4  5  6  7  8  9 10]\n",
      "+ Khoang cach nho nhat: 0\n"
     ]
    }
   ],
   "source": [
    "# Tính khoảng cách tất cả các cặp phần tử giữa a và x\n",
    "distances = np.abs(a[:, np.newaxis] - x)  # a[:, np.newaxis] biến a thành cột\n",
    "\n",
    "# Lấy khoảng cách nhỏ nhất\n",
    "v_min = np.min(distances)\n",
    "\n",
    "# In kết quả\n",
    "print(f\"+ Day a: {a}\")\n",
    "print(f\"+ Day x: {x}\")\n",
    "print(f\"+ Khoang cach nho nhat: {v_min}\")"
   ]
  },
  {
   "cell_type": "markdown",
   "id": "d18845b8-0d51-4666-ba1c-5ff836ef3d54",
   "metadata": {},
   "source": [
    "#### 4. Sinh ngẫu nhiên dãy số\n",
    "(a) Sinh ngẫu nhiên dãy số có 100 phần tử theo phân bố đều với giá trị trong đoạn [1, 10] và vẽ đồ thị tần số xuất hiện <br/> \n",
    "(b) Sinh ngẫu nhiên N diem (x, y) với y là hàm phân phối chuẩn $N(\\mu = 1, \\sigma^2 = 1.0)$: <br/>\n",
    " $$\n",
    " y = f\\left(x| \\mu, \\sigma\\right) = \\frac{1}{\\sigma\\sqrt{2\\pi}}exp\\left(-\\frac{\\left(x - \\mu\\right)^2}{2\\sigma^2}\\right)\n",
    " $$\n",
    " nơi mà $x \\in [\\mu - 5\\sigma, \\mu + 5\\sigma]$ <br/> \n",
    " (c) Sinh ngẫu nhiên dãy số có 100000 phần tử theo phân bố chuẩn $N(\\mu = 1, \\sigma^2 = 1.0)$ và vẽ đồ thị tần số xuất hiện <br/> <br/> "
   ]
  },
  {
   "cell_type": "code",
   "execution_count": 9,
   "id": "4d35cd9c-3163-486e-baef-63180ff2f5b6",
   "metadata": {},
   "outputs": [
    {
     "name": "stdout",
     "output_type": "stream",
     "text": [
      "a. Sinh ngẫu nhiên theo phân bố đều\n",
      "+ Gia tri: [ 1  2  3  4  5  6  7  8  9 10]\n",
      "+ So lan xuat hien: [ 6 11 10 10 11 18  9 10  7  8]\n",
      "+ Do thi ham so xuat hien\n"
     ]
    },
    {
     "data": {
      "image/png": "[encoded data removed]",
      "text/plain": [
       "<Figure size 600x600 with 1 Axes>"
      ]
     },
     "metadata": {},
     "output_type": "display_data"
    },
    {
     "data": {
      "image/png": "[encoded data removed]",
      "text/plain": [
       "<Figure size 600x600 with 1 Axes>"
      ]
     },
     "metadata": {},
     "output_type": "display_data"
    },
    {
     "data": {
      "image/png": "[encoded data removed]",
      "text/plain": [
       "<Figure size 800x600 with 1 Axes>"
      ]
     },
     "metadata": {},
     "output_type": "display_data"
    }
   ],
   "source": [
    "import numpy as np\n",
    "import matplotlib.pyplot as plt\n",
    "\n",
    "# a) Sinh ngẫu nhiên 100 phần tử theo phân bố đều trong [1,10]\n",
    "N = 100\n",
    "a_random = np.random.randint(1, 11, size=N)  # randint: 1 đến 10\n",
    "value, cnt = np.unique(a_random, return_counts=True)  # giá trị và tần số xuất hiện\n",
    "\n",
    "print(\"a. Sinh ngẫu nhiên theo phân bố đều\")\n",
    "print(f\"+ Gia tri: {value}\")\n",
    "print(f\"+ So lan xuat hien: {cnt}\")\n",
    "print(\"+ Do thi ham so xuat hien\")\n",
    "\n",
    "plt.figure(figsize=(6,6))\n",
    "plt.bar(value, cnt)\n",
    "plt.xlim(0, 11)\n",
    "plt.ylim(0, np.max(cnt)+10)\n",
    "plt.xlabel(\"Gia tri\")\n",
    "plt.ylabel(\"Tan so xuat hien\")\n",
    "plt.title(\"Histogram phan bo deu\")\n",
    "plt.savefig(\"4a.png\")\n",
    "plt.show()\n",
    "\n",
    "\n",
    "# b) Sinh N điểm (x, y) theo phân phối chuẩn\n",
    "mu = 1\n",
    "sigma = 1.0\n",
    "N_points = 100\n",
    "\n",
    "x = np.linspace(mu - 5*sigma, mu + 5*sigma, N_points)\n",
    "y = (1/(sigma * np.sqrt(2*np.pi))) * np.exp(-((x - mu)**2)/(2*sigma**2))\n",
    "\n",
    "plt.figure(figsize=(6,6))\n",
    "plt.plot(x, y, 'b-', lw=2)\n",
    "plt.xlabel(\"x\")\n",
    "plt.ylabel(\"f(x|mu,sigma)\")\n",
    "plt.title(\"Hàm phân phối chuẩn\")\n",
    "plt.grid(True)\n",
    "plt.savefig(\"4b.png\")\n",
    "plt.show()\n",
    "\n",
    "\n",
    "# c) Sinh ngẫu nhiên 100000 phần tử theo phân phối chuẩn\n",
    "N_large = 100000\n",
    "data = np.random.normal(mu, sigma, N_large)\n",
    "value_c, cnt_c = np.unique(np.round(data, 1), return_counts=True)  # làm tròn để histogram\n",
    "\n",
    "plt.figure(figsize=(8,6))\n",
    "plt.bar(value_c, cnt_c, width=0.1)\n",
    "plt.xlabel(\"Gia tri\")\n",
    "plt.ylabel(\"Tan so xuat hien\")\n",
    "plt.title(\"Histogram phan bo chuan\")\n",
    "plt.savefig(\"4c.png\")\n",
    "plt.show()"
   ]
  },
  {
   "cell_type": "code",
   "execution_count": 8,
   "id": "55c99911-a213-4961-85b7-2ef09b775945",
   "metadata": {},
   "outputs": [
    {
     "name": "stdout",
     "output_type": "stream",
     "text": [
      "b. Sinh cặp (x, y) với y làm hàm phân phối chuẩn\n",
      "+ x: -4.0 <= min [-3.95] <= max [ 5.96] <= 6.0\n",
      "+ Ve ham so y(x)\n"
     ]
    },
    {
     "data": {
      "image/png": "[encoded data removed]",
      "text/plain": [
       "<Figure size 432x432 with 1 Axes>"
      ]
     },
     "metadata": {
      "needs_background": "light"
     },
     "output_type": "display_data"
    }
   ],
   "source": [
    "\"\"\" CÁC BẠN LÀM BÀI Ở ĐÂY \"\"\"\n",
    "# Sử dụm hàm np.random.rand() sinh số ngẫu nhiên trong [0,1) --> [0,1) * (b - a) + a --> [a, b)\n",
    "# Sử dụng hàm sau để tính hàm xác suất chuẩn N(m, s): np.sqrt, np.exp\n",
    "# ...\n",
    "\n",
    "print(\"b. Sinh cặp (x, y) với y làm hàm phân phối chuẩn\")\n",
    "print(f\"+ x: {x_min} <= min [{np.min(x): .2f}] <= max [{np.max(x): .2f}] <= {x_max}\")\n",
    "print(f\"+ Ve ham so y(x)\")\n",
    "plt.figure(figsize=(6,6))      # kich thuoc ban ve\n",
    "plt.scatter(x, y)              # ve cac diem (xi, yi)\n",
    "plt.savefig(\"4b.png\")          #  luu do thi\n",
    "plt.show()                     #  hien thi do thi"
   ]
  },
  {
   "cell_type": "code",
   "execution_count": 10,
   "id": "0b4cf743-6afa-47da-8d3e-61f84623c707",
   "metadata": {},
   "outputs": [
    {
     "name": "stdout",
     "output_type": "stream",
     "text": [
      "c. Sinh day so theo phan phoi chuan\n",
      "+ x: len = 100000, min [-3.1407387869994956], max [5.121757546915363]\n",
      "+ Mat so xac suat cua day so x\n"
     ]
    },
    {
     "data": {
      "image/png": "[encoded data removed]",
      "text/plain": [
       "<Figure size 600x600 with 1 Axes>"
      ]
     },
     "metadata": {},
     "output_type": "display_data"
    }
   ],
   "source": [
    "import numpy as np\n",
    "import matplotlib.pyplot as plt\n",
    "\n",
    "# Sinh 100000 phần tử theo phân phối chuẩn N(mu=1, sigma^2=1)\n",
    "mu = 1\n",
    "sigma = 1.0\n",
    "N_large = 100000\n",
    "\n",
    "x = mu + sigma * np.random.randn(N_large)  # N(mu, sigma^2) = mu + sigma * N(0,1)\n",
    "\n",
    "# Tính histogram dạng xác suất\n",
    "cnt, val = np.histogram(x, bins=300, density=True)  # density=True để chuẩn hóa thành xác suất\n",
    "val = (val[1:] + val[:-1]) / 2  # lấy trung điểm của mỗi bin\n",
    "\n",
    "print(\"c. Sinh day so theo phan phoi chuan\")\n",
    "print(f\"+ x: len = {len(x)}, min [{np.min(x)}], max [{np.max(x)}]\")\n",
    "print(f\"+ Mat so xac suat cua day so x\")\n",
    "\n",
    "# Vẽ đồ thị scatter\n",
    "plt.figure(figsize=(6,6))\n",
    "plt.scatter(val, cnt, s=5, color='blue')\n",
    "plt.xlabel(\"Gia tri\")\n",
    "plt.ylabel(\"Mat so xac suat\")\n",
    "plt.title(\"Histogram phan bo chuan (scatter)\")\n",
    "plt.show()"
   ]
  },
  {
   "cell_type": "markdown",
   "id": "4f1a6dde-3e75-4dc7-8bab-40b7b9e17091",
   "metadata": {},
   "source": [
    "### Bài 2. Tính toán trên ma trận"
   ]
  },
  {
   "cell_type": "markdown",
   "id": "8ce5c9f7-de68-44cf-a1ce-950822c408d3",
   "metadata": {},
   "source": [
    "#### 1. Tạo ma trận a có M = 6 dòng, N = 4 cột"
   ]
  },
  {
   "cell_type": "code",
   "execution_count": 11,
   "id": "17b1f09d-11c7-4711-8b40-f67abd54323e",
   "metadata": {},
   "outputs": [
    {
     "name": "stdout",
     "output_type": "stream",
     "text": [
      "Ma trận a: \n",
      " [[180 103 119 108]\n",
      " [199 165 169 163]\n",
      " [128 198 181 199]\n",
      " [134 167 151 196]\n",
      " [120 121 108 183]\n",
      " [116 104 108 149]]\n"
     ]
    }
   ],
   "source": [
    "import numpy as np\n",
    "\n",
    "# Tạo ma trận 6x4 với các giá trị ngẫu nhiên từ 100 đến 199\n",
    "a = np.random.randint(100, 200, size=(6, 4))\n",
    "\n",
    "print(\"Ma trận a: \\n\", a)"
   ]
  },
  {
   "cell_type": "markdown",
   "id": "8bc353b9-1740-4e94-b779-eae046171142",
   "metadata": {},
   "source": [
    "#### 2. Các thao tác trên ma trận a\n",
    "(a) In ra ma trận chuyển vị <br/>\n",
    "(b) In ra phần tử ở vị trí dòng 2 cột 3 <br/>\n",
    "(c) Trích xuất dòng đầu, dòng cuối, dòng 2 <br/>\n",
    "(d) Trích xuất cột kế cuối, cột đầu <br/>\n",
    "(e) Đảo các giá trị trên từng cột <br/>\n",
    "(f) Tính tổng các dòng, trung bình các cột <br/>"
   ]
  },
  {
   "cell_type": "code",
   "execution_count": 12,
   "id": "5236b916-3dda-4444-8004-9a6ab8d80df4",
   "metadata": {},
   "outputs": [
    {
     "name": "stdout",
     "output_type": "stream",
     "text": [
      "a. In ra ma trận chuyển vị: \n",
      "[[180 199 128 134 120 116]\n",
      " [103 165 198 167 121 104]\n",
      " [119 169 181 151 108 108]\n",
      " [108 163 199 196 183 149]]\n",
      "\n",
      "b. In ra phần tử ở vị trí dòng 2 cột 3: 169\n",
      "\n",
      "c. Trích xuất các dòng: \n",
      "   + Dòng đầu : [180 103 119 108]\n",
      "   + Dòng cuối: [116 104 108 149]\n",
      "   + Dòng hai : [128 198 181 199]\n",
      "\n",
      "d. Trích xuất các cột: \n",
      "   + Cột kế cuối: [119 169 181 151 108 108]\n",
      "   + Cột đầu: [180 199 128 134 120 116]\n",
      "\n",
      "e. Đảo các giá trị trên từng cột: \n",
      " [[116 104 108 149]\n",
      " [120 121 108 183]\n",
      " [134 167 151 196]\n",
      " [128 198 181 199]\n",
      " [199 165 169 163]\n",
      " [180 103 119 108]]\n",
      "\n",
      "f. Phép tính theo trục:\n",
      "   + Tổng dòng: [510 696 706 648 532 477]\n",
      "   + Trung bình cột: [146.16666667 143.         139.33333333 166.33333333]\n"
     ]
    }
   ],
   "source": [
    "# a) Ma trận chuyển vị\n",
    "a_t = a.T\n",
    "\n",
    "# b) Phần tử ở dòng 2 cột 3 (index 1,2)\n",
    "v_23 = a[1, 2]\n",
    "\n",
    "# c) Trích xuất các dòng\n",
    "d_0 = a[0, :]       # dòng đầu\n",
    "d_last = a[-1, :]    # dòng cuối\n",
    "d_2 = a[2, :]       # dòng thứ 3 (index 2)\n",
    "\n",
    "# d) Trích xuất các cột\n",
    "c_l1 = a[:, -2]      # cột kế cuối\n",
    "c_0 = a[:, 0]        # cột đầu\n",
    "\n",
    "# e) Đảo các giá trị trên từng cột\n",
    "dao_cot = np.flipud(a)  # lật ngược theo trục dọc (cột giữ nguyên)\n",
    "\n",
    "# f) Phép tính theo trục\n",
    "tong_dong = np.sum(a, axis=1)    # tổng theo từng dòng\n",
    "tb_cot = np.mean(a, axis=0)      # trung bình theo từng cột\n",
    "\n",
    "# In kết quả\n",
    "print(f\"a. In ra ma trận chuyển vị: \\n{a_t}\")\n",
    "print(f\"\\nb. In ra phần tử ở vị trí dòng 2 cột 3: {v_23}\")\n",
    "print(f\"\\nc. Trích xuất các dòng: \")\n",
    "print(f\"   + Dòng đầu : {d_0}\")\n",
    "print(f\"   + Dòng cuối: {d_last}\")\n",
    "print(f\"   + Dòng hai : {d_2}\")\n",
    "print(f\"\\nd. Trích xuất các cột: \")\n",
    "print(f\"   + Cột kế cuối: {c_l1}\")\n",
    "print(f\"   + Cột đầu: {c_0}\")\n",
    "print(f\"\\ne. Đảo các giá trị trên từng cột: \\n {dao_cot}\")\n",
    "print(f\"\\nf. Phép tính theo trục:\")\n",
    "print(f\"   + Tổng dòng: {tong_dong}\")\n",
    "print(f\"   + Trung bình cột: {tb_cot}\")"
   ]
  },
  {
   "cell_type": "markdown",
   "id": "bca46803-13a7-4324-b719-0bffd7110119",
   "metadata": {},
   "source": [
    "#### 3. Các toán tử trên hai ma trận\n",
    "(a) Tạo hai ma trận A và B có 4 dòng x 3 cột và X có 3 dòng x 4 cột <br/>\n",
    "(b) Tính tổng, hiệu, tích của từng phần tử trên hai ma trận A và B <br/>\n",
    "(c) Tính phép nhân ma trận Y = A x X"
   ]
  },
  {
   "cell_type": "code",
   "execution_count": 13,
   "id": "86d9c4ed-e86c-4baf-b51b-9dbd20e5c3cb",
   "metadata": {},
   "outputs": [
    {
     "name": "stdout",
     "output_type": "stream",
     "text": [
      "a. Tạo hai ma trận A và B có 4 dòng x 3 cột và X có 3 dòng x 4 cột\n",
      "+ Ma tran A: \n",
      "[[2 4 2]\n",
      " [4 3 7]\n",
      " [5 7 2]\n",
      " [5 1 6]]\n",
      "+ Ma tran B: \n",
      "[[7 6 2]\n",
      " [9 1 1]\n",
      " [4 7 5]\n",
      " [7 3 2]]\n",
      "+ Ma tran X: \n",
      "[[4 3 3 7]\n",
      " [6 9 4 9]\n",
      " [5 2 2 3]]\n",
      "\n",
      "b. Tính tổng, hiệu, tích của từng phần tử trên hai ma trận A và B\n",
      "A + B = \n",
      "[[ 9 10  4]\n",
      " [13  4  8]\n",
      " [ 9 14  7]\n",
      " [12  4  8]]\n",
      "A - B = \n",
      "[[-5 -2  0]\n",
      " [-5  2  6]\n",
      " [ 1  0 -3]\n",
      " [-2 -2  4]]\n",
      "A . B = \n",
      "[[14 24  4]\n",
      " [36  3  7]\n",
      " [20 49 10]\n",
      " [35  3 12]]\n",
      "\n",
      "c. Tính phép nhân ma trận Y = A x X\n",
      "Y = A x X --> shape A ((4, 3)) x shape X ((3, 4)) = shape Y ((4, 4)) \n",
      "[[ 42  46  26  56]\n",
      " [ 69  53  38  76]\n",
      " [ 72  82  47 104]\n",
      " [ 56  36  31  62]]\n"
     ]
    }
   ],
   "source": [
    "import numpy as np\n",
    "\n",
    "# a) Tạo ma trận\n",
    "A = np.random.randint(1, 10, size=(4,3))\n",
    "B = np.random.randint(1, 10, size=(4,3))\n",
    "X = np.random.randint(1, 10, size=(3,4))\n",
    "\n",
    "print(\"a. Tạo hai ma trận A và B có 4 dòng x 3 cột và X có 3 dòng x 4 cột\")\n",
    "print(f\"+ Ma tran A: \\n{A}\")\n",
    "print(f\"+ Ma tran B: \\n{B}\")\n",
    "print(f\"+ Ma tran X: \\n{X}\")\n",
    "\n",
    "# b) Tính tổng, hiệu, tích từng phần tử\n",
    "AB_add = A + B\n",
    "AB_sub = A - B\n",
    "AB_mul = A * B   # tích từng phần tử (element-wise)\n",
    "\n",
    "print(\"\\nb. Tính tổng, hiệu, tích của từng phần tử trên hai ma trận A và B\")\n",
    "print(f\"A + B = \\n{AB_add}\")\n",
    "print(f\"A - B = \\n{AB_sub}\")\n",
    "print(f\"A . B = \\n{AB_mul}\")\n",
    "\n",
    "# c) Phép nhân ma trận Y = A x X\n",
    "Y = np.dot(A, X)  # hoặc A @ X\n",
    "print(\"\\nc. Tính phép nhân ma trận Y = A x X\")\n",
    "print(f\"Y = A x X --> shape A ({A.shape}) x shape X ({X.shape}) = shape Y ({Y.shape}) \\n{Y}\")"
   ]
  },
  {
   "cell_type": "markdown",
   "id": "43602379-f77d-44ba-b2e3-23f85c6bcf5a",
   "metadata": {},
   "source": [
    "#### 4. Giải hệ phương trình tuyến tính\n",
    "Giải hệ phương trình tuyến tính sau:\n",
    "$$\n",
    "\\left\\{\\begin{matrix}\n",
    "        4x_1  + 3x_2 - 5x_3 = 2 \\\\ \n",
    "        -2x_1 - 4x_2 + 5x_3 = 5 \\\\ \n",
    "        8x_1 + 8x_2 = -3 \\\\ \n",
    "\\end{matrix}\\right.\n",
    "$$"
   ]
  },
  {
   "cell_type": "code",
   "execution_count": 14,
   "id": "53db2e93-fcbe-49f6-a4dd-482d22bcda54",
   "metadata": {},
   "outputs": [
    {
     "name": "stdout",
     "output_type": "stream",
     "text": [
      "+ Ma tran A: \n",
      "[[6 2 6 7]\n",
      " [4 2 4 3]\n",
      " [7 2 1 3]\n",
      " [9 8 4 1]]\n",
      "+ Vector y: [7 7 7 1]\n",
      "+ Nghiem x: [ 3.375  -4.9375  3.375  -3.375 ]\n",
      "+ Kiem tra: yy = Ax = [7. 7. 7. 1.] ==> ||yy -y ||_2 =  0.00\n"
     ]
    }
   ],
   "source": [
    "import numpy as np\n",
    "\n",
    "# Giả sử A là ma trận 4x4 và y là vector 4 phần tử\n",
    "A = np.random.randint(1, 10, size=(4,4))\n",
    "y = np.random.randint(1, 10, size=(4,))\n",
    "\n",
    "# Giải hệ Ax = y\n",
    "x = np.linalg.solve(A, y)  # x = A^-1 y\n",
    "\n",
    "# Kiểm tra nghiệm\n",
    "yy = A @ x\n",
    "diff = np.linalg.norm(yy - y)  # chuẩn 2 của vector yy - y\n",
    "\n",
    "print(f\"+ Ma tran A: \\n{A}\")\n",
    "print(f\"+ Vector y: {y}\")\n",
    "print(f\"+ Nghiem x: {x}\")\n",
    "print(f\"+ Kiem tra: yy = Ax = {yy} ==> ||yy -y ||_2 = {diff: .2f}\")"
   ]
  },
  {
   "cell_type": "markdown",
   "id": "526b7e20-beca-4087-9cab-02ccc0a8f856",
   "metadata": {},
   "source": [
    "## Bài tập áp dụng"
   ]
  },
  {
   "cell_type": "markdown",
   "id": "9ee067fb-2045-4d3e-b504-ff4a8c3dcf37",
   "metadata": {},
   "source": [
    "### Bài 3. Tính gần đúng số pi dùng phương pháp Monte Carlo\n",
    "\n",
    "Vẽ một đường tròn $C$ có bán kính $r$ nội tiếp một hình vuông $C$, và đặt ngẫu nhiên $N$ chấm lên hình vuông. Tỉ lệ các chấm nằm trong hình tròn trên tổng số chấm xấp xỉ bằng diện tích của hình tròn chia cho hình vuông như sau:\n",
    "$$\n",
    "\\frac{N_C}{N} \\approx  \\frac{\\mathbb{S}_C}{\\mathbb{S}_N}\n",
    "$$\n",
    "nơi mà $N_C$ là các chấm trong hình tròn, $N$ là tổng số chấm, $\\mathbb{S}_C$ và $\\mathbb{S}_N$ lần lượt là diện tích của hình tròn và hình vuông.\n",
    "$$ \\mathbb{S}_C = \\pi * r^2 $$\n",
    "$$ \\mathbb{S}_N = (2*r)^2 = 4r^2 $$\n",
    "Do đó, công thức trên trở thành:\n",
    "$$\n",
    "\\frac{N_C}{N} \\approx \\frac{\\pi * r^2}{4r^2} = \\frac{\\pi}{4}\n",
    "$$\n",
    "Suy ra, ta có giá trị số $\\pi$ được tính như sau:\n",
    "$$\n",
    "\\pi \\approx \\frac{4N_C}{N}\n",
    "$$\n",
    "\n",
    "Các bạn hãy lập trình tính sấp xỉ số $\\pi$ dùng phương pháp Monte Carlo. Cho biết các sai số với $N = 100$, $N = 10000$, và $N = 1000000$. Vẽ đồ thị minh họa cho chương trình.\n",
    "\n",
    "**Hướng dẫn**: Viết chương trình phát sinh $N$ điểm $(x_i, y_i)$ với $x_i, y_i \\in [-1, -1]$. $(x_i, y_i)$ thuộc hình tròn tâm $(0, 0)$ bán kính 1 nội tiếp hình vuông có tâm tại $(0, 0)$ độ dài cạnh 2 khi và chỉ khi $x_i^2 + y_i^2 <= 1$."
   ]
  },
  {
   "cell_type": "code",
   "execution_count": 14,
   "id": "793640f7-4ba5-4d27-9d52-a65f4c25a5b0",
   "metadata": {},
   "outputs": [
    {
     "data": {
      "image/png": "[encoded data removed]",
      "text/plain": [
       "<Figure size 432x432 with 1 Axes>"
      ]
     },
     "metadata": {
      "needs_background": "light"
     },
     "output_type": "display_data"
    }
   ],
   "source": [
    "import matplotlib.pyplot as plt # khai báo thư viện vẽ pyplot\n",
    "import math\n",
    "\n",
    "circle = plt.Circle((0, 0), 1, color='g') # tạo đối tượng vòng tròn\n",
    "\n",
    "fig, ax = plt.subplots(figsize=(6, 6)) # lấy figure và vùng vẽ\n",
    "\n",
    "plt.plot(0, 0, 'o', color=(0.9, 0.9, 1.0), alpha=0.8) # vẽ điểm tại tâm (0,0)\n",
    "ax.add_patch(circle) # thêm vòng tròn vào vùng vẽ\n",
    "\n",
    "x = 0.75; y = math.sqrt(1 - (x ** 2)) # (x = 0.75, y = căn bậc 2 của 1 - x^2)\n",
    "plt.arrow(0, 0, x, y)\n",
    "\n",
    "plt.xlim(-1, 1) # giới hạn trục x\n",
    "plt.ylim(-1, 1) # giới hạn trục y\n",
    "\n",
    "plt.savefig('pi.png') # lưu đồ thị xuống tập tin\n",
    "plt.show()            # hiển thị đồ thị"
   ]
  },
  {
   "cell_type": "code",
   "execution_count": 15,
   "id": "bef335d2-9e51-4fa5-8843-aa1d67a607f0",
   "metadata": {},
   "outputs": [],
   "source": [
    "import numpy as np\n",
    "\n",
    "def calc_pi_monte_carlo(n=100):\n",
    "    # Sinh n điểm ngẫu nhiên trong hình vuông [0,1)x[0,1)\n",
    "    x = np.random.rand(n)\n",
    "    y = np.random.rand(n)\n",
    "    \n",
    "    # Kiểm tra xem điểm có nằm trong hình tròn bán kính 1 không\n",
    "    inside_circle = (x**2 + y**2) <= 1\n",
    "    \n",
    "    # Tỷ lệ điểm nằm trong hình tròn nhân 4 sẽ xấp xỉ pi\n",
    "    pi = 4 * np.sum(inside_circle) / n\n",
    "    return pi"
   ]
  },
  {
   "cell_type": "code",
   "execution_count": 16,
   "id": "91071758-5957-497b-a5d1-2f2d17df6fae",
   "metadata": {},
   "outputs": [
    {
     "name": "stdout",
     "output_type": "stream",
     "text": [
      "epsilon(n=100):  0.018407346410207026\n",
      "epsilon(n=100):  0.21840734641020676\n",
      "epsilon(n=10000):  -0.009592653589792999\n",
      "epsilon(n=10000):  -0.017992653589792962\n",
      "epsilon(n=1000000):  -0.0005366535897932678\n",
      "epsilon(n=1000000):  -0.0019766535897929316\n"
     ]
    }
   ],
   "source": [
    "import math\n",
    "\n",
    "print(\"epsilon(n=100): \", calc_pi_monte_carlo(n = 100) - math.pi)\n",
    "print(\"epsilon(n=100): \", calc_pi_monte_carlo(n = 100) - math.pi)\n",
    "print(\"epsilon(n=10000): \", calc_pi_monte_carlo(n = 10000) - math.pi)\n",
    "print(\"epsilon(n=10000): \", calc_pi_monte_carlo(n = 10000) - math.pi)\n",
    "print(\"epsilon(n=1000000): \", calc_pi_monte_carlo(n = 1000000) - math.pi)\n",
    "print(\"epsilon(n=1000000): \", calc_pi_monte_carlo(n = 1000000) - math.pi)"
   ]
  }
 ],
 "metadata": {
  "kernelspec": {
   "display_name": "Python [conda env:base] *",
   "language": "python",
   "name": "conda-base-py"
  },
  "language_info": {
   "codemirror_mode": {
    "name": "ipython",
    "version": 3
   },
   "file_extension": ".py",
   "mimetype": "text/x-python",
   "name": "python",
   "nbconvert_exporter": "python",
   "pygments_lexer": "ipython3",
   "version": "3.13.5"
  }
 },
 "nbformat": 4,
 "nbformat_minor": 5
}
